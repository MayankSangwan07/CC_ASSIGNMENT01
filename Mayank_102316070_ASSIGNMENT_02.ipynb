{
  "nbformat": 4,
  "nbformat_minor": 0,
  "metadata": {
    "colab": {
      "provenance": []
    },
    "kernelspec": {
      "name": "python3",
      "display_name": "Python 3"
    },
    "language_info": {
      "name": "python"
    }
  },
  "cells": [
    {
      "cell_type": "markdown",
      "source": [
        "Q1. Create a List L that is defined as= [10, 20, 30, 40, 50, 60, 70, 80].\n",
        "\n",
        "\n",
        "---\n",
        "\n",
        "\n",
        "  i. WAP to add 200 and 300 to L.\n",
        "\n",
        "  ii. WAP to remove 10 and 30 from L.\n",
        "\n",
        "  iii. WAP to sort L in ascending order.\n",
        "  \n",
        "  iv. WAP to sort L in descending order."
      ],
      "metadata": {
        "id": "iVuncpRbyq4Q"
      }
    },
    {
      "cell_type": "code",
      "execution_count": 1,
      "metadata": {
        "colab": {
          "base_uri": "https://localhost:8080/"
        },
        "id": "GoWOfn-bMkDD",
        "outputId": "57716b8d-2b5b-4b07-d39e-000c670060b8"
      },
      "outputs": [
        {
          "output_type": "stream",
          "name": "stdout",
          "text": [
            "[10, 20, 30, 40, 50, 60, 70, 80, 200, 300]\n",
            "[20, 40, 50, 60, 70, 80, 200, 300]\n",
            "[20, 40, 50, 60, 70, 80, 200, 300]\n",
            "[300, 200, 80, 70, 60, 50, 40, 20]\n"
          ]
        }
      ],
      "source": [
        "lst = [10, 20, 30, 40, 50, 60, 70, 80]\n",
        "# 1\n",
        "lst.append(200)\n",
        "lst.append(300)\n",
        "print(lst)\n",
        "# 2\n",
        "lst.remove(10)\n",
        "lst.remove(30)\n",
        "print(lst)\n",
        "# 3\n",
        "lst.sort()\n",
        "print(lst)\n",
        "# 4\n",
        "lst.sort(reverse=True)\n",
        "print(lst)"
      ]
    },
    {
      "cell_type": "markdown",
      "source": [
        "Q2. Create a tuple of marks scored as scores = (45, 89.5, 76, 45.4, 89, 92, 58, 45) and perform the following operations using tuple functions:\n",
        "\n",
        "\n",
        "---\n",
        "\n",
        "\n",
        "i. Identify the highest score and its index in the tuple.\n",
        "\n",
        "ii. Find the lowest score and count how many times it appears.\n",
        "\n",
        "iii. Reverse the tuple and return it as a list.\n",
        "\n",
        "iv. Check if a specific score ‘76’ (input by the user) is present in the tuple and print its first occurrence index, or a message saying it’s not present."
      ],
      "metadata": {
        "id": "9RSKIYrl0JC9"
      }
    },
    {
      "cell_type": "code",
      "source": [
        "tple = (45, 89.5, 76, 45.4, 89, 92, 58, 45)\n",
        "# first\n",
        "print(max(tple))\n",
        "print(tple.index(max(tple)))\n",
        "# second\n",
        "print(min(tple))\n",
        "print(tple.count(min(tple)))\n",
        "# third\n",
        "print(list(reversed(tple)))\n",
        "# fourth\n",
        "x = float(input(\"Enter Score : \"))\n",
        "if (x in tple):\n",
        "  print(tple.index(x))\n",
        "else:\n",
        "  print(\"Not Found\")"
      ],
      "metadata": {
        "colab": {
          "base_uri": "https://localhost:8080/"
        },
        "id": "LHYfvEg4NRWS",
        "outputId": "89695917-e793-47e9-e8e6-c29dc147e061"
      },
      "execution_count": 2,
      "outputs": [
        {
          "output_type": "stream",
          "name": "stdout",
          "text": [
            "92\n",
            "5\n",
            "45\n",
            "2\n",
            "[45, 58, 92, 89, 45.4, 76, 89.5, 45]\n",
            "Enter Score : 89.5\n",
            "1\n"
          ]
        }
      ]
    },
    {
      "cell_type": "markdown",
      "source": [
        "Q3. WAP to create a list of 100 random numbers between 100 and 900. Count and print the :\n",
        "\n",
        "\n",
        "---\n",
        "\n",
        "\n",
        "i. All odd numbers\n",
        "\n",
        "ii. All even numbers\n",
        "\n",
        "iii. All prime numbers"
      ],
      "metadata": {
        "id": "wAPGahqD2Uum"
      }
    },
    {
      "cell_type": "code",
      "source": [
        "import random\n",
        "rand_arr = [random.randint(100,900) for _ in range(100)]\n",
        "\n",
        "# first\n",
        "print(\"ODD\")\n",
        "for i in rand_arr:\n",
        "  print(i) if i%2!=0 else \"\"\n",
        "\n",
        "\n",
        "# second\n",
        "print(\"EVEN\")\n",
        "for i in rand_arr:\n",
        "  print(i) if i%2==0 else \"\"\n",
        "\n",
        "\n",
        "# third\n",
        "print(\"PRIME\")\n",
        "for i in rand_arr:\n",
        "  for j in range(2,i):\n",
        "    if i%j==0:\n",
        "      break\n",
        "  else:\n",
        "    print(i)"
      ],
      "metadata": {
        "colab": {
          "base_uri": "https://localhost:8080/"
        },
        "id": "Q4M4xzc6NRzi",
        "outputId": "164779e9-6563-4282-d053-b74cb15cd2d9"
      },
      "execution_count": 3,
      "outputs": [
        {
          "output_type": "stream",
          "name": "stdout",
          "text": [
            "ODD\n",
            "151\n",
            "759\n",
            "103\n",
            "811\n",
            "715\n",
            "789\n",
            "561\n",
            "727\n",
            "421\n",
            "717\n",
            "853\n",
            "869\n",
            "557\n",
            "117\n",
            "587\n",
            "587\n",
            "635\n",
            "339\n",
            "371\n",
            "875\n",
            "763\n",
            "335\n",
            "339\n",
            "433\n",
            "693\n",
            "299\n",
            "469\n",
            "577\n",
            "419\n",
            "161\n",
            "349\n",
            "399\n",
            "455\n",
            "649\n",
            "695\n",
            "385\n",
            "167\n",
            "241\n",
            "117\n",
            "469\n",
            "351\n",
            "789\n",
            "471\n",
            "163\n",
            "287\n",
            "799\n",
            "867\n",
            "297\n",
            "463\n",
            "769\n",
            "339\n",
            "281\n",
            "269\n",
            "EVEN\n",
            "754\n",
            "214\n",
            "298\n",
            "614\n",
            "726\n",
            "656\n",
            "370\n",
            "394\n",
            "704\n",
            "482\n",
            "448\n",
            "572\n",
            "138\n",
            "578\n",
            "224\n",
            "698\n",
            "708\n",
            "784\n",
            "158\n",
            "664\n",
            "282\n",
            "464\n",
            "506\n",
            "256\n",
            "322\n",
            "314\n",
            "800\n",
            "344\n",
            "688\n",
            "368\n",
            "304\n",
            "464\n",
            "844\n",
            "302\n",
            "124\n",
            "170\n",
            "858\n",
            "658\n",
            "752\n",
            "884\n",
            "566\n",
            "766\n",
            "830\n",
            "384\n",
            "868\n",
            "542\n",
            "774\n",
            "PRIME\n",
            "151\n",
            "103\n",
            "811\n",
            "727\n",
            "421\n",
            "853\n",
            "557\n",
            "587\n",
            "587\n",
            "433\n",
            "577\n",
            "419\n",
            "349\n",
            "167\n",
            "241\n",
            "163\n",
            "463\n",
            "769\n",
            "281\n",
            "269\n"
          ]
        }
      ]
    },
    {
      "cell_type": "markdown",
      "source": [
        "Q4. Consider the following two sets, A and B, representing scores of two teams in muliple matches. A = {34, 56, 78, 90} and B = {78, 45, 90, 23} WAP to perform the following operations using set functions:\n",
        "\n",
        "\n",
        "---\n",
        "\n",
        "\n",
        "i. Find the unique scores achieved by both teams (union of sets).\n",
        "\n",
        "ii. Identify the scores that are common to both teams (intersection of sets).\n",
        "\n",
        "iii. Find the scores that are exclusive to each team (symmetric difference).\n",
        "\n",
        "iv. Check if the scores of team A are a subset of team B, and if team B's scores area superset of team A.\n",
        "\n",
        "v. Remove a specific score X (input by the user) from set A if it exists. If not, print a message saying it is not present."
      ],
      "metadata": {
        "id": "KZmQrjzS46J8"
      }
    },
    {
      "cell_type": "code",
      "source": [
        "a = {34, 56, 78, 90}\n",
        "b = {78, 45, 90, 23}\n",
        "\n",
        "# first\n",
        "\n",
        "unique_scores = a | b\n",
        "print(\"Unique scores:\", unique_scores)\n",
        "\n",
        "# second\n",
        "common_scores = a & b\n",
        "print(\"Common scores:\", common_scores)\n",
        "\n",
        "# third\n",
        "\n",
        "exclusive_scores = a ^ b\n",
        "print(\"Exclusive scores:\", exclusive_scores)\n",
        "\n",
        "\n",
        "# fourth\n",
        "is_subset = a.issubset(b)\n",
        "print(\"Is a a subset of B?\", is_subset)\n",
        "is_superset = b.issuperset(a)\n",
        "print(\"Is b a superset of a?\", is_superset)\n",
        "\n",
        "\n",
        "\n",
        "# v. Remove a specific score from set a\n",
        "x = int(input(\"Enter a score to remove from a: \"))\n",
        "if x in a:\n",
        "    a.remove(x)\n",
        "    print(\"Set a after removal:\", a)\n",
        "else:\n",
        "    print(f\"Score {x} not found in set a.\")"
      ],
      "metadata": {
        "colab": {
          "base_uri": "https://localhost:8080/"
        },
        "id": "P1LwfR4rNWTQ",
        "outputId": "0fc40d2b-83f3-4204-e6ec-72e8fb254af9"
      },
      "execution_count": 5,
      "outputs": [
        {
          "output_type": "stream",
          "name": "stdout",
          "text": [
            "Unique scores: {34, 45, 78, 23, 56, 90}\n",
            "Common scores: {90, 78}\n",
            "Exclusive scores: {34, 45, 23, 56}\n",
            "Is a a subset of B? False\n",
            "Is b a superset of a? False\n",
            "Enter a score to remove from a: 56\n",
            "Set a after removal: {34, 90, 78}\n"
          ]
        }
      ]
    },
    {
      "cell_type": "markdown",
      "source": [
        "Q5. Write a program to rename a key city to a location in the following dictionary."
      ],
      "metadata": {
        "id": "flIWftV_6CnB"
      }
    },
    {
      "cell_type": "code",
      "source": [
        "sample_dict = {\n",
        "  \"name\": \"Kelly\",\n",
        "  \"age\":25,\n",
        "  \"salary\": 8000,\n",
        "  \"city\": \"New york\"\n",
        "}\n",
        "sample_dict[\"location\"] = sample_dict.pop('city')\n",
        "print(sample_dict)"
      ],
      "metadata": {
        "colab": {
          "base_uri": "https://localhost:8080/"
        },
        "id": "LWCPeM5dNZeJ",
        "outputId": "7c28d368-a5fc-4d36-fa59-415c48fc3ec9"
      },
      "execution_count": 6,
      "outputs": [
        {
          "output_type": "stream",
          "name": "stdout",
          "text": [
            "{'name': 'Kelly', 'age': 25, 'salary': 8000, 'location': 'New york'}\n"
          ]
        }
      ]
    }
  ]
}